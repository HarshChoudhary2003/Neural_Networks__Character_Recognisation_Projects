{
 "cells": [
  {
   "cell_type": "code",
   "execution_count": null,
   "id": "dd6173d4-9da1-4c0f-8459-aaeb5807539e",
   "metadata": {},
   "outputs": [],
   "source": []
  },
  {
   "cell_type": "code",
   "execution_count": 1,
   "id": "29fd9510-ad0a-456c-858e-6b0263d3d0c5",
   "metadata": {},
   "outputs": [],
   "source": [
    "# data\n",
    "\n",
    "# A\n",
    "a=[0,0,1,1,0,0,\n",
    "   0,1,0,0,1,0,\n",
    "   1,1,1,1,1,1,\n",
    "   1,0,0,0,0,1,\n",
    "   1,0,0,0,0,1\n",
    "   ]\n",
    "\n",
    "# B\n",
    "b=[0,1,1,1,1,0,\n",
    "   0,1,0,0,1,0,\n",
    "   0,1,1,1,1,0,\n",
    "   0,1,0,0,1,0,\n",
    "   0,1,1,1,1,0\n",
    "  ]\n",
    "\n",
    "# C\n",
    "c=[0,1,1,1,1,0,\n",
    "   0,1,0,0,0,0,\n",
    "   0,1,0,0,0,0,\n",
    "   0,1,0,0,0,0,\n",
    "   0,1,1,1,1,0\n",
    "    \n",
    "]"
   ]
  },
  {
   "cell_type": "code",
   "execution_count": 3,
   "id": "28c50fd9-aadc-4cd0-8c9d-e2f7245e4654",
   "metadata": {},
   "outputs": [],
   "source": [
    "#creating labels\n",
    "y =[[1,0,0],\n",
    "    [0,1,0],\n",
    "    [0,0,1]]"
   ]
  },
  {
   "cell_type": "code",
   "execution_count": 5,
   "id": "5c32d596-a74f-43fa-8af3-7cea53735998",
   "metadata": {},
   "outputs": [],
   "source": [
    "import numpy as np\n",
    "import matplotlib.pyplot as plt"
   ]
  },
  {
   "cell_type": "code",
   "execution_count": 6,
   "id": "a6ae8008-57d2-4361-a9c6-3d430cfc077c",
   "metadata": {},
   "outputs": [
    {
     "data": {
      "image/png": "[encoded data removed]",
      "text/plain": [
       "<Figure size 640x480 with 1 Axes>"
      ]
     },
     "metadata": {},
     "output_type": "display_data"
    }
   ],
   "source": [
    "#visualize the data\n",
    "plt.imshow(np.array(a).reshape(5,6))\n",
    "plt.show()"
   ]
  },
  {
   "cell_type": "code",
   "execution_count": 8,
   "id": "a9068af8-bfe1-4014-b8e9-5aa040012e01",
   "metadata": {},
   "outputs": [
    {
     "name": "stdout",
     "output_type": "stream",
     "text": [
      "[array([[0, 0, 1, 1, 0, 0, 0, 1, 0, 0, 1, 0, 1, 1, 1, 1, 1, 1, 1, 0, 0, 0,\n",
      "        0, 1, 1, 0, 0, 0, 0, 1]]), array([[0, 1, 1, 1, 1, 0, 0, 1, 0, 0, 1, 0, 0, 1, 1, 1, 1, 0, 0, 1, 0, 0,\n",
      "        1, 0, 0, 1, 1, 1, 1, 0]]), array([[0, 1, 1, 1, 1, 0, 0, 1, 0, 0, 0, 0, 0, 1, 0, 0, 0, 0, 0, 1, 0, 0,\n",
      "        0, 0, 0, 1, 1, 1, 1, 0]])] \n",
      "\n",
      " [[1 0 0]\n",
      " [0 1 0]\n",
      " [0 0 1]]\n"
     ]
    }
   ],
   "source": [
    "# convert data and labels into numpy array\n",
    "x = [np.array(a).reshape(1,30),np.array(b).reshape(1,30),np.array(c).reshape(1,30)]\n",
    "y = np.array(y)\n",
    "print(x ,\"\\n\\n\",y)"
   ]
  },
  {
   "cell_type": "code",
   "execution_count": 9,
   "id": "6143cd08-6d0d-4b39-aa41-5b72515bef6b",
   "metadata": {},
   "outputs": [],
   "source": [
    "#activation functions\n",
    "\n",
    "def sigmoid(x):\n",
    "    return(1/(1+np.exp(-x)))"
   ]
  },
  {
   "cell_type": "code",
   "execution_count": 29,
   "id": "aaf52222-6ed7-42f7-811a-443045c32ad8",
   "metadata": {},
   "outputs": [],
   "source": [
    "# creating feed forward nn\n",
    "def f_forward(x,w1,w2):\n",
    "    z1 = x.dot(w1)\n",
    "    a1 = sigmoid(z1)\n",
    "\n",
    "    #output layer\n",
    "    z2 = a1.dot(w2)\n",
    "    a2 = sigmoid(z2)\n",
    "    return(a2)"
   ]
  },
  {
   "cell_type": "code",
   "execution_count": 25,
   "id": "72f90e1e-20ca-44e1-a46b-7bce0b153c61",
   "metadata": {},
   "outputs": [],
   "source": [
    "import numpy as np\n",
    "\n",
    "def generate_wt(x, y):\n",
    "    l = []\n",
    "    for i in range(x * y):\n",
    "        l.append(np.random.randn())  \n",
    "    return np.array(l).reshape(x, y)  \n",
    "\n",
    "        "
   ]
  },
  {
   "cell_type": "code",
   "execution_count": 38,
   "id": "0899d052-6e58-41e7-ba7d-ebeb567cb775",
   "metadata": {},
   "outputs": [],
   "source": [
    "def loss(out,y):\n",
    "    s = (np.square(out-y))\n",
    "    s = np.sum(s)/len(y)\n",
    "    return(s)"
   ]
  },
  {
   "cell_type": "code",
   "execution_count": 49,
   "id": "e84a5621-e4eb-4108-ab1e-41931cc9848e",
   "metadata": {},
   "outputs": [],
   "source": [
    "#back propagation\n",
    "\n",
    "def back_prop(x, y, w1, w2, alpha):\n",
    "    # Forward pass\n",
    "    z1 = x.dot(w1)\n",
    "    a1 = sigmoid(z1)\n",
    "\n",
    "    z2 = a1.dot(w2)\n",
    "    a2 = sigmoid(z2)\n",
    "\n",
    "    # Backward pass\n",
    "    d2 = a2 - y  # Output layer error\n",
    "    d1 = np.multiply(np.dot(d2, w2.T), a1 * (1 - a1))  # Hidden layer error\n",
    "\n",
    "    # Weight adjustments\n",
    "    w1_adj = np.outer(x, d1)\n",
    "    w2_adj = np.outer(a1, d2)\n",
    "\n",
    "    # Update weights\n",
    "    w1 -= alpha * w1_adj\n",
    "    w2 -= alpha * w2_adj\n",
    "\n",
    "    return w1, w2"
   ]
  },
  {
   "cell_type": "code",
   "execution_count": 45,
   "id": "3d6d1ba4-a3e7-413d-bb52-21f88d1f17d5",
   "metadata": {},
   "outputs": [],
   "source": [
    "def train(x,y,w1,w2,alpha=0.01, epoch = 10):\n",
    "    acc=[]\n",
    "    losses = []\n",
    "    for j in range(epoch):\n",
    "        l = []\n",
    "        for i in range(len(x)):\n",
    "            out = f_forward(x[i],w1,w2)\n",
    "            l.append(loss(out,y[i]))\n",
    "            w1,w2 = back_prop(x[i],y[i],w1,w2,alpha)\n",
    "        print(\"Epochs:\",j+1, \"acc:\", (1-(sum(l)/len(x)))*100)\n",
    "        acc.append((1-(sum(l)/len(x)))*100)\n",
    "        losses.append(sum(l)/len(x))\n",
    "    return(acc,losses,w1,w2)"
   ]
  },
  {
   "cell_type": "code",
   "execution_count": 20,
   "id": "edd46a0b-526e-490b-a2fe-2beb8e2a7407",
   "metadata": {},
   "outputs": [],
   "source": [
    "def predict(x,w1,w2):\n",
    "    Out = f_forward(x,w1,w2)\n",
    "    maxm=0\n",
    "    k=0\n",
    "    for i in range(len(Out[0])):\n",
    "        if(maxm<Out[0][i]):\n",
    "            maxm = Out[0][i]\n",
    "            k=i\n",
    "    if(k==0):\n",
    "        print(\"Image is of letter A\")\n",
    "    elif(k==1):\n",
    "        print(\"Image is of letter B\")\n",
    "    else:\n",
    "        print(\"Image is of letter C\")\n",
    "    plt.imshow(x.reshape(5,6))\n",
    "    plt.show()\n",
    "    "
   ]
  },
  {
   "cell_type": "code",
   "execution_count": 27,
   "id": "c9d9b4ae-9f85-42cd-8286-eaa9f529e651",
   "metadata": {},
   "outputs": [
    {
     "name": "stdout",
     "output_type": "stream",
     "text": [
      "[[-0.57120046 -0.04693138 -1.83238614 -0.59148445  0.25992376]\n",
      " [-0.38112666 -1.12489281  1.34006264 -1.98246142  0.14486967]\n",
      " [ 2.402237    0.98555698 -0.0887511   0.35513518 -0.52689415]\n",
      " [-1.21770405  1.81976786 -1.33877155 -0.58932546 -0.2892806 ]\n",
      " [ 0.32182464 -0.06781122  1.66818386  0.06811449  1.52599349]\n",
      " [-0.80963043 -0.42594617  2.0958454  -0.25204651 -1.71286808]\n",
      " [-0.29388007  0.65839732 -0.12020272 -1.7584567   0.65944889]\n",
      " [ 1.45839632 -0.89360762  0.89131711  0.46293896 -1.55149761]\n",
      " [-0.52879966 -0.1644398  -0.33634919 -0.67467087  0.60564508]\n",
      " [ 0.8449601   1.18975341 -0.75444298 -0.20386382 -0.20315902]\n",
      " [-0.55153714  0.13332948  1.00179629  1.78685114 -1.47953102]\n",
      " [ 2.20890097  0.11018411 -0.42787148 -0.31731273  1.02636734]\n",
      " [ 0.04702185  0.00996637 -0.93809889  0.85861435 -0.30827108]\n",
      " [ 1.11371604  0.19895287 -0.16468367 -0.47734303 -0.62755172]\n",
      " [ 0.92849222  2.81818858  0.44125101  0.40830165 -0.83452977]\n",
      " [-1.55933798 -1.29785604 -0.32482467 -0.66305364  2.13808963]\n",
      " [-0.4189613   1.42185581  0.24049207 -0.65721862  1.11336546]\n",
      " [-0.12725131 -1.82730688  0.40525211 -0.17167373 -0.06966909]\n",
      " [-0.28457802 -0.02257839 -1.43937097  0.3076956   1.47851162]\n",
      " [-0.11940886  0.35456773  0.38172019 -0.5164397   0.00705205]\n",
      " [ 1.23418087 -0.14422898  1.12020386 -1.71617669  1.33862291]\n",
      " [ 1.82744651  1.71467602 -0.57872742 -1.10988513 -1.70328178]\n",
      " [ 0.56815643 -0.39885208 -0.84189259  0.06217661  0.33274028]\n",
      " [-0.26152075  0.82616049 -0.50170329 -0.80921823  1.44432097]\n",
      " [ 0.18313192 -0.21744538  0.8411852   0.2113802   0.14832567]\n",
      " [ 0.62871348 -0.39080694 -0.25454459 -2.54650708  0.91647643]\n",
      " [-0.24808454 -0.21973897  0.88699026 -0.25892744  0.66987971]\n",
      " [ 0.93541811  0.70222201  0.10348559 -1.2004654   1.68180963]\n",
      " [ 1.42877256  0.64350377 -0.86071458 -0.28367109  0.04373641]\n",
      " [ 0.49844946  0.45055545  1.40028571 -2.10783146 -1.2698832 ]] \n",
      "\n",
      " [[-0.31007295  0.25387769 -0.8684711 ]\n",
      " [ 0.53556254  0.42812129 -1.61931627]\n",
      " [ 1.40108043 -0.87490831 -0.83091899]\n",
      " [ 0.41902374 -1.02559264  0.82267897]\n",
      " [ 1.01413987  1.31604512  1.27691966]]\n"
     ]
    }
   ],
   "source": [
    "w1 = generate_wt(30,5)\n",
    "w2 = generate_wt(5,3)\n",
    "print(w1,\"\\n\\n\",w2)\n"
   ]
  },
  {
   "cell_type": "code",
   "execution_count": 50,
   "id": "25085ebf-8f1b-4b9f-8630-ca68ef4faed4",
   "metadata": {},
   "outputs": [
    {
     "name": "stdout",
     "output_type": "stream",
     "text": [
      "Epochs: 1 acc: 62.13542867586443\n",
      "Epochs: 2 acc: 66.28186522136133\n",
      "Epochs: 3 acc: 70.05985950156892\n",
      "Epochs: 4 acc: 73.25642738638989\n",
      "Epochs: 5 acc: 75.76853083153988\n",
      "Epochs: 6 acc: 77.66743234625653\n",
      "Epochs: 7 acc: 79.10710381359948\n",
      "Epochs: 8 acc: 80.2331752462886\n",
      "Epochs: 9 acc: 81.15103947675037\n",
      "Epochs: 10 acc: 81.92960020011688\n",
      "Epochs: 11 acc: 82.61358763013885\n",
      "Epochs: 12 acc: 83.2329780913542\n",
      "Epochs: 13 acc: 83.80816371887114\n",
      "Epochs: 14 acc: 84.35269384808338\n",
      "Epochs: 15 acc: 84.87506925537079\n",
      "Epochs: 16 acc: 85.38015455335328\n",
      "Epochs: 17 acc: 85.87030709474672\n",
      "Epochs: 18 acc: 86.34621915577414\n",
      "Epochs: 19 acc: 86.80749922219132\n",
      "Epochs: 20 acc: 87.25306104863726\n",
      "Epochs: 21 acc: 87.6814092225182\n",
      "Epochs: 22 acc: 88.09089864884614\n",
      "Epochs: 23 acc: 88.48000512795949\n",
      "Epochs: 24 acc: 88.84759055408115\n",
      "Epochs: 25 acc: 89.19310743554783\n",
      "Epochs: 26 acc: 89.51668796189662\n",
      "Epochs: 27 acc: 89.819101287311\n",
      "Epochs: 28 acc: 90.10161025893676\n",
      "Epochs: 29 acc: 90.3657846984671\n",
      "Epochs: 30 acc: 90.61332392251377\n",
      "Epochs: 31 acc: 90.84591916386387\n",
      "Epochs: 32 acc: 91.06516390940364\n",
      "Epochs: 33 acc: 91.27250594907656\n",
      "Epochs: 34 acc: 91.46922963009384\n",
      "Epochs: 35 acc: 91.65645711453223\n",
      "Epochs: 36 acc: 91.83516002029425\n",
      "Epochs: 37 acc: 92.00617567871849\n",
      "Epochs: 38 acc: 92.17022454167041\n",
      "Epochs: 39 acc: 92.32792686142629\n",
      "Epochs: 40 acc: 92.47981776336901\n",
      "Epochs: 41 acc: 92.62636040887513\n",
      "Epochs: 42 acc: 92.7679572545719\n",
      "Epochs: 43 acc: 92.90495956232007\n",
      "Epochs: 44 acc: 93.03767537181427\n",
      "Epochs: 45 acc: 93.16637615715587\n",
      "Epochs: 46 acc: 93.29130237482414\n",
      "Epochs: 47 acc: 93.41266808684587\n",
      "Epochs: 48 acc: 93.53066481687222\n",
      "Epochs: 49 acc: 93.64546477187346\n",
      "Epochs: 50 acc: 93.75722353979494\n",
      "Epochs: 51 acc: 93.86608235425643\n",
      "Epochs: 52 acc: 93.97217000116773\n",
      "Epochs: 53 acc: 94.07560442868329\n",
      "Epochs: 54 acc: 94.1764941108593\n",
      "Epochs: 55 acc: 94.27493920632749\n",
      "Epochs: 56 acc: 94.37103254592051\n",
      "Epochs: 57 acc: 94.46486047717063\n",
      "Epochs: 58 acc: 94.55650358870645\n",
      "Epochs: 59 acc: 94.6460373335793\n",
      "Epochs: 60 acc: 94.73353256729156\n",
      "Epochs: 61 acc: 94.8190560136336\n",
      "Epochs: 62 acc: 94.90267066925048\n",
      "Epochs: 63 acc: 94.9844361560649\n",
      "Epochs: 64 acc: 95.06440902920333\n",
      "Epochs: 65 acc: 95.14264304685169\n",
      "Epochs: 66 acc: 95.21918940745434\n",
      "Epochs: 67 acc: 95.29409695883069\n",
      "Epochs: 68 acc: 95.36741238308359\n",
      "Epochs: 69 acc: 95.43918036058936\n",
      "Epochs: 70 acc: 95.50944371586982\n",
      "Epochs: 71 acc: 95.57824354773574\n",
      "Epochs: 72 acc: 95.64561934574508\n",
      "Epochs: 73 acc: 95.71160909472732\n",
      "Epochs: 74 acc: 95.77624936887814\n",
      "Epochs: 75 acc: 95.83957541671877\n",
      "Epochs: 76 acc: 95.9016212380366\n",
      "Epochs: 77 acc: 95.96241965377129\n",
      "Epochs: 78 acc: 96.02200236968133\n",
      "Epochs: 79 acc: 96.08040003451481\n",
      "Epochs: 80 acc: 96.13764229331329\n",
      "Epochs: 81 acc: 96.1937578363957\n",
      "Epochs: 82 acc: 96.24877444449909\n",
      "Epochs: 83 acc: 96.30271903049271\n",
      "Epochs: 84 acc: 96.3556176780289\n",
      "Epochs: 85 acc: 96.40749567744994\n",
      "Epochs: 86 acc: 96.45837755923023\n",
      "Epochs: 87 acc: 96.50828712519932\n",
      "Epochs: 88 acc: 96.5572474777624\n",
      "Epochs: 89 acc: 96.60528104730824\n",
      "Epochs: 90 acc: 96.65240961797308\n",
      "Epochs: 91 acc: 96.69865435190935\n",
      "Epochs: 92 acc: 96.7440358121907\n",
      "Epochs: 93 acc: 96.78857398447064\n",
      "Epochs: 94 acc: 96.83228829749854\n",
      "Epochs: 95 acc: 96.87519764258573\n",
      "Epochs: 96 acc: 96.91732039210447\n",
      "Epochs: 97 acc: 96.95867441709348\n",
      "Epochs: 98 acc: 96.99927710403638\n",
      "Epochs: 99 acc: 97.03914537087263\n",
      "Epochs: 100 acc: 97.07829568229435\n"
     ]
    }
   ],
   "source": [
    "acc,losses,w1,w2 = train(x,y,w1,w2,0.1,100)"
   ]
  },
  {
   "cell_type": "code",
   "execution_count": 53,
   "id": "79ba2e57-800c-4d47-ba93-ba7b9d21c0fb",
   "metadata": {},
   "outputs": [
    {
     "data": {
      "image/png": "[encoded data removed]",
      "text/plain": [
       "<Figure size 640x480 with 1 Axes>"
      ]
     },
     "metadata": {},
     "output_type": "display_data"
    }
   ],
   "source": [
    "import matplotlib.pyplot as plt1\n",
    "\n",
    "#plotting accurracy\n",
    "plt1.plot(acc)\n",
    "plt.ylabel('Accuracy')\n",
    "plt.xlabel('Epochs:')\n",
    "plt1.show()"
   ]
  },
  {
   "cell_type": "code",
   "execution_count": 54,
   "id": "2a936ca0-c4ee-4c56-b59a-39960bbeb3d1",
   "metadata": {},
   "outputs": [
    {
     "data": {
      "image/png": "[encoded data removed]",
      "text/plain": [
       "<Figure size 640x480 with 1 Axes>"
      ]
     },
     "metadata": {},
     "output_type": "display_data"
    }
   ],
   "source": [
    "#plot loss\n",
    "plt1.plot(losses)\n",
    "plt.ylabel('Loss')\n",
    "plt.xlabel('Epochs:')\n",
    "plt1.show()\n"
   ]
  },
  {
   "cell_type": "code",
   "execution_count": 55,
   "id": "e6d9d99d-8eff-4991-a945-182643e1872f",
   "metadata": {},
   "outputs": [
    {
     "name": "stdout",
     "output_type": "stream",
     "text": [
      "[[-0.57120046 -0.04693138 -1.83238614 -0.59148445  0.25992376]\n",
      " [-0.35063483 -1.59659954  1.32494328 -2.06995962  0.33066505]\n",
      " [ 2.06535238  0.53198353  0.17579905  0.64577572 -0.62774054]\n",
      " [-1.55458867  1.3661944  -1.0742214  -0.29868491 -0.39012699]\n",
      " [ 0.35231646 -0.53951795  1.6530645  -0.01938371  1.71178887]\n",
      " [-0.80963043 -0.42594617  2.0958454  -0.25204651 -1.71286808]\n",
      " [-0.29388007  0.65839732 -0.12020272 -1.7584567   0.65944889]\n",
      " [ 1.1215117  -1.34718107  1.15586725  0.7535795  -1.652344  ]\n",
      " [-0.52879966 -0.1644398  -0.33634919 -0.67467087  0.60564508]\n",
      " [ 0.8449601   1.18975341 -0.75444298 -0.20386382 -0.20315902]\n",
      " [-0.89521466  0.84804989  1.13455669  2.06562241 -1.69621989]\n",
      " [ 2.20890097  0.11018411 -0.42787148 -0.31731273  1.02636734]\n",
      " [-0.32035459  0.02809964 -0.65842938  1.2367531  -0.59491285]\n",
      " [ 0.77683142 -0.25462059  0.09986648 -0.18670249 -0.72839811]\n",
      " [ 0.5848147   3.53290899  0.57401141  0.68707293 -1.05121865]\n",
      " [-1.9030155  -0.58313563 -0.19206427 -0.38428236  1.92140075]\n",
      " [-0.76263883  2.13657622  0.37325247 -0.37844734  0.89667658]\n",
      " [-0.49462775 -1.80917361  0.68492162  0.20646502 -0.35631086]\n",
      " [-0.65195447 -0.00444512 -1.15970146  0.68583435  1.19186985]\n",
      " [-0.08891703 -0.11713899  0.36660083 -0.60393791  0.19284742]\n",
      " [ 1.23418087 -0.14422898  1.12020386 -1.71617669  1.33862291]\n",
      " [ 1.82744651  1.71467602 -0.57872742 -1.10988513 -1.70328178]\n",
      " [ 0.59185535  0.29773506 -0.98880169 -0.03719086  0.40269317]\n",
      " [-0.62889719  0.84429376 -0.22203378 -0.43107948  1.1576792 ]\n",
      " [-0.18424452 -0.19931211  1.12085471  0.58951895 -0.1383161 ]\n",
      " [ 0.65920531 -0.86251366 -0.26966395 -2.63400528  1.1022718 ]\n",
      " [-0.21759271 -0.69144569  0.8718709  -0.34642565  0.85567509]\n",
      " [ 0.96590994  0.23051528  0.08836623 -1.28796361  1.86760501]\n",
      " [ 1.45926439  0.17179705 -0.87583394 -0.37116929  0.22953179]\n",
      " [ 0.13107302  0.46868872  1.67995522 -1.72969271 -1.55652497]] \n",
      "\n",
      " [[-2.36492974 -0.40906309  0.05880664]\n",
      " [ 0.48010055  1.96530815 -3.5925599 ]\n",
      " [ 0.32147616 -2.00701701 -0.47913422]\n",
      " [ 2.03324549 -2.12840737  0.17922961]\n",
      " [-1.66923364  1.39247925  2.20314418]]\n"
     ]
    }
   ],
   "source": [
    "print(w1,\"\\n\\n\",w2)"
   ]
  },
  {
   "cell_type": "code",
   "execution_count": 56,
   "id": "fce66f52-0205-47f6-bc12-9b027753474a",
   "metadata": {},
   "outputs": [
    {
     "name": "stdout",
     "output_type": "stream",
     "text": [
      "Image is of letter C\n"
     ]
    },
    {
     "data": {
      "image/png": "[encoded data removed]",
      "text/plain": [
       "<Figure size 640x480 with 1 Axes>"
      ]
     },
     "metadata": {},
     "output_type": "display_data"
    }
   ],
   "source": [
    "predict(x[2],w1,w2)"
   ]
  },
  {
   "cell_type": "code",
   "execution_count": 57,
   "id": "d77cdf8c-e212-44b9-96d8-0688964c1481",
   "metadata": {},
   "outputs": [
    {
     "name": "stdout",
     "output_type": "stream",
     "text": [
      "Image is of letter A\n"
     ]
    },
    {
     "data": {
      "image/png": "[encoded data removed]",
      "text/plain": [
       "<Figure size 640x480 with 1 Axes>"
      ]
     },
     "metadata": {},
     "output_type": "display_data"
    }
   ],
   "source": [
    "predict(x[0],w1,w2)"
   ]
  },
  {
   "cell_type": "code",
   "execution_count": 58,
   "id": "4dd98f72-b1b6-4b89-bd0d-67105b863f82",
   "metadata": {},
   "outputs": [
    {
     "name": "stdout",
     "output_type": "stream",
     "text": [
      "Image is of letter B\n"
     ]
    },
    {
     "data": {
      "image/png": "[encoded data removed]",
      "text/plain": [
       "<Figure size 640x480 with 1 Axes>"
      ]
     },
     "metadata": {},
     "output_type": "display_data"
    }
   ],
   "source": [
    "predict(x[1],w1,w2)"
   ]
  },
  {
   "cell_type": "code",
   "execution_count": null,
   "id": "d93f1aa6-3331-4c20-9562-618344f83397",
   "metadata": {},
   "outputs": [],
   "source": []
  }
 ],
 "metadata": {
  "kernelspec": {
   "display_name": "Python 3 (ipykernel)",
   "language": "python",
   "name": "python3"
  },
  "language_info": {
   "codemirror_mode": {
    "name": "ipython",
    "version": 3
   },
   "file_extension": ".py",
   "mimetype": "text/x-python",
   "name": "python",
   "nbconvert_exporter": "python",
   "pygments_lexer": "ipython3",
   "version": "3.13.1"
  }
 },
 "nbformat": 4,
 "nbformat_minor": 5
}
